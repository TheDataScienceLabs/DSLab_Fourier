{
 "cells": [
  {
   "cell_type": "markdown",
   "id": "5707feb4-e8e5-4b6f-b7b6-746774a9da3f",
   "metadata": {},
   "source": [
    "# Lab 6: Tremolo/Beats Effects 2\n",
    "\n",
    "<font size=\"3\"> Last updated 8/12/2024</font>"
   ]
  },
  {
   "cell_type": "markdown",
   "id": "7621d6be-2576-47e3-a678-a953b456feaf",
   "metadata": {},
   "source": [
    "## <span style=\"color:orange;\"> 00. Content </span>\n",
    "\n",
    "### Mathematics \n",
    "- Laws of sines/cosines\n",
    "    \n",
    "### Programming Skills \n",
    "- Type here\n",
    "    \n",
    "### Embedded Systems \n",
    "- N/A\n",
    "\n",
    "## <span style=\"color:orange;\"> 0. Required Hardware </span>\n",
    "- headphones"
   ]
  },
  {
   "cell_type": "markdown",
   "id": "a3bff4ee-7401-4ad2-a9e4-ce4662cd8653",
   "metadata": {},
   "source": [
    "<h3 style=\"background-color:lightblue\"> Write your name and email below: </h3>\n",
    "\n",
    "**Name:** me \n",
    "\n",
    "**Email:** me @purdue.edu"
   ]
  },
  {
   "cell_type": "markdown",
   "id": "63110199-62cc-4826-b47f-9ece02d0bd82",
   "metadata": {},
   "source": []
  },
  {
   "cell_type": "markdown",
   "id": "b9963864-90b7-4e74-a8bb-d847b8dff6be",
   "metadata": {},
   "source": [
    "# <span style=\"color:orange;\">  1. Building a Voice Recorder </span> "
   ]
  },
  {
   "cell_type": "markdown",
   "id": "1396b910-43ba-4caf-8bde-c17dc96abe33",
   "metadata": {},
   "source": [
    "Before we begin, we need to install a few python libraries which will help us in manipulating audio with python.\n",
    "We will be using Sounddevice and Soundfile for this purpose as it is easy to use and works on a variety of different environments.\n",
    "\n",
    "Installation instructions for Sounddevice can be found from [here](https://python-sounddevice.readthedocs.io/en/0.4.1/installation.html).\n",
    "Installation instructions for Soundfile can be found from [here](https://pypi.org/project/soundfile/).\n",
    "\n",
    "On the same website, you can also read more about each of the libraries.\n",
    "\n",
    "For Recording Audio with Python, we have to do the following:\n",
    "1. Open a data stream to get audio data frame from microphone\n",
    "2. Iterate over the stream and append each frame to a list of frames.\n",
    "3. Stop and close the data stream.\n",
    "4. Save the data frames as a .wave file.\n",
    "Sounddevice and soundfile makes this process drastically easier.\n",
    "\n",
    "[voice_recorder.py](https://github.com/TheDataScienceLabs/DSLab_Fourier/blob/main/book/labs/modulation/tremolo_beats/voice_recorder_new.py) is implemented following the above pseudo code. It records 5s of mono channel audio and saves it as my_recording.wave"
   ]
  },
  {
   "cell_type": "markdown",
   "id": "32c6de8e-7a90-4948-be9a-a1b59fee61c3",
   "metadata": {},
   "source": [
    "### <span style=\"color:red\"> Exercise 1</span>\n",
    "\n",
    "Run voice_recorder.py and report your observations."
   ]
  },
  {
   "cell_type": "markdown",
   "id": "d1c8c61a-2051-47a3-a376-b8657ad8c04b",
   "metadata": {},
   "source": []
  },
  {
   "cell_type": "markdown",
   "id": "58d788a7-2e9a-4be4-89d9-c6f284404d15",
   "metadata": {},
   "source": [
    "### <span style=\"color:red\"> Exercise 2</span>\n",
    "\n",
    "Modify the voice_recorder.py to record a 10s audio recording of yourself and save it as \\<yourname>_voice_clip.wave"
   ]
  },
  {
   "cell_type": "code",
   "execution_count": null,
   "id": "37cadc4f-190a-4caa-ac85-136f30aab031",
   "metadata": {},
   "outputs": [],
   "source": []
  },
  {
   "cell_type": "markdown",
   "id": "ccf83d39",
   "metadata": {},
   "source": [
    "### <span style=\"color:red\"> Exercise 3</span>\n",
    "\n",
    "Write a Python code to play the recorded audio using PyAudio.\n",
    "\n",
    "Hint:\n",
    "1. Feel free to consult documentation of Sounddevice and Soundfile online"
   ]
  },
  {
   "cell_type": "code",
   "execution_count": null,
   "id": "b14c3d3d",
   "metadata": {},
   "outputs": [],
   "source": []
  },
  {
   "cell_type": "markdown",
   "id": "4e4a4aac-f504-4a91-855f-6c019b658332",
   "metadata": {},
   "source": [
    "### <span style=\"color:red\"> Exercise 4 </span>\n",
    "\n",
    "In your script, modulate your recording with the triangular wave and play the modulated sound. Change the triagular wave frequency and play the resulting modulated sound. Compare what happens when the frequency is very low (<20Hz) and when it is very high (20-20kHZ). Paste in your modified code. "
   ]
  },
  {
   "cell_type": "code",
   "execution_count": null,
   "id": "995cbabf-cfc2-499e-a8f7-8824e3278685",
   "metadata": {},
   "outputs": [],
   "source": []
  },
  {
   "cell_type": "markdown",
   "id": "664782c1-8dd5-4931-a77b-f7818bae272e",
   "metadata": {},
   "source": [
    "### <span style=\"color:red\"> Exercise 5 </span>\n",
    "\n",
    "In your script, modulate your recording with a square wave and play the modulated sound. Paste in your modified code. "
   ]
  },
  {
   "cell_type": "code",
   "execution_count": null,
   "id": "2e3713ef-107c-40dc-ad5c-2e3f4230161e",
   "metadata": {},
   "outputs": [],
   "source": []
  },
  {
   "cell_type": "markdown",
   "id": "a2ecd0c7-ae78-410b-8e02-1fd0a24dd275",
   "metadata": {},
   "source": [
    "## Create your own modulation effect"
   ]
  },
  {
   "cell_type": "markdown",
   "id": "4230b17d-8cb9-48cd-be58-894c53929904",
   "metadata": {},
   "source": [
    "### <span style=\"color:red\"> Exercise 6 </span>\n",
    "\n",
    "Create the signal $x(t)$ a recording of you saying \"B'Euler up!\". "
   ]
  },
  {
   "cell_type": "markdown",
   "id": "fc2afd2e-4c6d-4b41-a72c-30a47e4e5f75",
   "metadata": {},
   "source": []
  },
  {
   "cell_type": "markdown",
   "id": "85d493da-1dc6-4084-bf8f-4de4098637b7",
   "metadata": {},
   "source": [
    "### <span style=\"color:red\"> Exercise 7 </span>\n",
    "\n",
    "Create an original periodic signal $c_1(t)$. Use it to modulate $x(t)$ and play the resulting modulated signal. "
   ]
  },
  {
   "cell_type": "markdown",
   "id": "0e08aaf5-69fd-48aa-8e49-5aa5dd2e0d7f",
   "metadata": {},
   "source": []
  },
  {
   "cell_type": "markdown",
   "id": "bafa8c57-e4c1-4bb6-8351-cbdcadddac31",
   "metadata": {},
   "source": [
    "### <span style=\"color:red\"> Exercise 8 </span>\n",
    "\n",
    "Create another original periodic signal  $c_2(t)$ with the same frequency as  $c_1(t)$. Use it to modulate $x(t)$ and play the resulting modulated signal. "
   ]
  },
  {
   "cell_type": "markdown",
   "id": "b15543d8-43aa-42ca-9f07-64f5843917bd",
   "metadata": {},
   "source": []
  },
  {
   "cell_type": "markdown",
   "id": "649eacd2-eb06-4dae-b4d7-f54e19f6daf6",
   "metadata": {},
   "source": [
    "### <span style=\"color:red\"> Exercise 9 </span>\n",
    "\n",
    "Play the signal $x(t) c_1(t) c_2(t)$. Describe that signal. "
   ]
  },
  {
   "cell_type": "markdown",
   "id": "34105237-20f4-4e3b-b32a-a0021fb1f7ec",
   "metadata": {},
   "source": []
  },
  {
   "cell_type": "markdown",
   "id": "072faa8e-e648-49b3-867c-23d6d34552c9",
   "metadata": {},
   "source": [
    "### <span style=\"color:red\"> Exercise 10 </span>\n",
    "\n",
    "Play the signal $x(t) (c_1(t) + c_2(t)) $. Describe that signal. "
   ]
  },
  {
   "cell_type": "markdown",
   "id": "33deb54c-438d-4afb-9aa8-85d925ba6de4",
   "metadata": {},
   "source": []
  },
  {
   "cell_type": "markdown",
   "id": "1331baac-8646-47b0-a4ef-918fdd54d0d6",
   "metadata": {},
   "source": [
    "# <span style=\"color:orange;\">  2. Instrument Tuning with \"beats\" </span> "
   ]
  },
  {
   "cell_type": "markdown",
   "id": "6e3fa4ca-66cc-465b-830e-def6b0530977",
   "metadata": {},
   "source": [
    "Orchestra players are well familiar with the tremolo effect, which they call \"beats\", as they use it to tune their instruments. "
   ]
  },
  {
   "cell_type": "markdown",
   "id": "eb5c015a-05ce-48ed-ba7c-5b587c3e6ffd",
   "metadata": {},
   "source": [
    "The idea is the following: if two instruments play the same note, then the sound produced corresponds to the addition of two periodic signals. For simplicity, let's assume that the first instrument plays a cosine wave at a frequency $f_a$:\n",
    "\n",
    "$$ x_a(t)= \\cos 2\\pi f_a t, $$\n",
    "\n",
    "and let's assume that the second instrument plays another cosine wave at a similar (but not equal) frequency $f_b$: \n",
    "\n",
    "$$ x_b(t)= \\cos 2\\pi f_b t. $$\n",
    "\n",
    "Then the combined sound is \n",
    "\n",
    "$$x(t)= x_a(t)+x_b(t)=   \\cos 2\\pi f_a t+ \\cos 2\\pi f_b t.$$"
   ]
  },
  {
   "cell_type": "markdown",
   "id": "a21ba6ae-407d-49f7-8429-b91e19227c16",
   "metadata": {},
   "source": [
    "### <span style=\"color:red\"> Exercise 11 </span>\n",
    "\n",
    "Assume $f_a=400 Hz$ and $f_b=410 Hz$. Write $x(t)$ as a product of two sine waves. "
   ]
  },
  {
   "cell_type": "markdown",
   "id": "b712f2de-2c80-45f6-9782-c87d4b7b429d",
   "metadata": {},
   "source": []
  },
  {
   "cell_type": "code",
   "execution_count": null,
   "id": "488d99d9",
   "metadata": {},
   "outputs": [],
   "source": []
  },
  {
   "cell_type": "markdown",
   "id": "f3ed31de-65ef-4d8f-a585-e09b9e70fd7e",
   "metadata": {},
   "source": [
    "To understand what happens in general, we replace $f_1$ by $\\frac{f_a+f_b}{2}$ and  $f_2$ by $ \\frac{f_b-f_a}{2}$ in the equation above. This gives us\n",
    "\n",
    "$$ \\sin\\left(  2 \\pi \\left(  \\frac{f_a+f_b}{2} \\right) t \\right) \\sin \\left( 2 \\pi \\left(  \\frac{f_b-f_a}{2}    \\right) t           \\right) = \\frac{1}{2}\\cos \\left( 2 \\pi f_a t \\right) - \\frac{1}{2}\\cos\\left( 2 \\pi f_b t \\right) .$$\n"
   ]
  },
  {
   "cell_type": "markdown",
   "id": "bb7a4986-ffba-4c9d-903d-7b4bf819559d",
   "metadata": {},
   "source": [
    "In other words, two cosine waves with a similar frequency added together correspond to modulating a sine wave at the average frequency with a (carrier) sine wave at half the frequency difference. If $f_1$ and $f_2$ are close frequencies in the audible range, then their difference is small. Therefore, one expects a tremolo effect to occur when the instruments are not in tune. "
   ]
  },
  {
   "cell_type": "markdown",
   "id": "3ba2f45f-cb32-4dc0-a9a6-f9ce5642a4f9",
   "metadata": {},
   "source": [
    "### <span style=\"color:red\"> Exercise 12</span>\n",
    "\n",
    "Suppose the signals $ \\sin \\left( 2 \\pi 440 t \\right) $ (a middle A) and the signal $\\sin \\left( 2\\pi 442 t\\right)$ are added together. What would be the frequency of the carrier (i.e., the beat/tremolo frequency)? Play the added signals: do you hear the beats? Plot the modulated signal: is it the same? Plot a few cycles of each signal (added and modulated) and compare. "
   ]
  },
  {
   "cell_type": "markdown",
   "id": "8d068fec-00f9-4f24-a749-0a9c94f6e32c",
   "metadata": {},
   "source": []
  },
  {
   "cell_type": "markdown",
   "id": "a6a9ec20-1667-413a-bf12-a9653689979a",
   "metadata": {},
   "source": [
    "### <span style=\"color:red\"> Exercise 13 </span>\n",
    "\n",
    "Can two musicians listening to the added sounds determine the difference between the frequencies of their instruments? If so, how? If not, why not."
   ]
  },
  {
   "cell_type": "markdown",
   "id": "fee289dd-0308-4b3c-971e-c20990603e3a",
   "metadata": {},
   "source": []
  },
  {
   "cell_type": "markdown",
   "id": "41e7ed88-d3bd-4a2c-8ee7-f87e1c7deaa7",
   "metadata": {},
   "source": [
    "### <span style=\"color:red\"> Exercise 14</span>\n",
    "\n",
    "Explain how two musicians can use the beat effect to tune an out-of-tune instrument, assuming one musician has in-tune instrument at an 440 Hz A.  "
   ]
  },
  {
   "cell_type": "markdown",
   "id": "39763f5f-578a-4e82-a86b-5dcd27a00b99",
   "metadata": {},
   "source": []
  },
  {
   "cell_type": "markdown",
   "id": "eaee3ed6-4bfc-4a03-a8b1-fae914c0a15e",
   "metadata": {},
   "source": [
    "## <span style=\"color:green;\"> Reflection </span>\n",
    "\n",
    "Do not skip this section! Lab will be graded only on completion of this section.\n",
    "\n",
    "__1. What parts of the lab, if any, do you feel you did well? <br>\n",
    "2. What are some things you learned today? <br>\n",
    "3. Are there any topics that could use more clarification? <br>\n",
    "4. Do you have any suggestions on parts of the lab to improve?__\n",
    "\n",
    "<h3 style=\"background-color:lightblue\"> Write Answers for the Reflection Below </h3>"
   ]
  },
  {
   "cell_type": "markdown",
   "id": "b1fa9665-a5eb-434d-ae70-0cfbb28e45c6",
   "metadata": {},
   "source": []
  }
 ],
 "metadata": {
  "kernelspec": {
   "display_name": "Python 3 (ipykernel)",
   "language": "python",
   "name": "python3"
  },
  "language_info": {
   "codemirror_mode": {
    "name": "ipython",
    "version": 3
   },
   "file_extension": ".py",
   "mimetype": "text/x-python",
   "name": "python",
   "nbconvert_exporter": "python",
   "pygments_lexer": "ipython3",
   "version": "3.9.13"
  }
 },
 "nbformat": 4,
 "nbformat_minor": 5
}
